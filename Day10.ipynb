{
  "nbformat": 4,
  "nbformat_minor": 0,
  "metadata": {
    "colab": {
      "name": "Day10.ipynb",
      "provenance": [],
      "authorship_tag": "ABX9TyPlRMuvC/GT4evmbBK0PsjR",
      "include_colab_link": true
    },
    "kernelspec": {
      "name": "python3",
      "display_name": "Python 3"
    }
  },
  "cells": [
    {
      "cell_type": "markdown",
      "metadata": {
        "id": "view-in-github",
        "colab_type": "text"
      },
      "source": [
        "<a href=\"https://colab.research.google.com/github/ananya0504/The-Wire-Us-Challenge-Python/blob/master/Day10.ipynb\" target=\"_parent\"><img src=\"https://colab.research.google.com/assets/colab-badge.svg\" alt=\"Open In Colab\"/></a>"
      ]
    },
    {
      "cell_type": "code",
      "metadata": {
        "id": "LaRaEDgh5GlO",
        "outputId": "c28ecc63-d95d-48d7-bb31-6815b6a9d76b",
        "colab": {
          "base_uri": "https://localhost:8080/",
          "height": 69
        }
      },
      "source": [
        "code = input(\"Enter you code!\")\n",
        "print(\"Extending Indexing\")\n",
        "print(code[3:5]) #extending indexing"
      ],
      "execution_count": 12,
      "outputs": [
        {
          "output_type": "stream",
          "text": [
            "Enter you code!ANA05GU\n",
            "Extending Indexing\n",
            "05\n"
          ],
          "name": "stdout"
        }
      ]
    },
    {
      "cell_type": "code",
      "metadata": {
        "id": "xR4n79BYBz-v",
        "outputId": "f273175e-5d29-4151-ccad-4ddb3b21e8d5",
        "colab": {
          "base_uri": "https://localhost:8080/",
          "height": 69
        }
      },
      "source": [
        "code = input(\"Enter you code!\")\n",
        "String =code\n",
        "  \n",
        "s1 = slice(3, 5)  # Using slice constructor\n",
        "  \n",
        "print(\"String slicing\")  \n",
        "print(String[s1])  \n",
        "\n"
      ],
      "execution_count": 11,
      "outputs": [
        {
          "output_type": "stream",
          "text": [
            "Enter you code!ANA05GU\n",
            "String slicing\n",
            "05\n"
          ],
          "name": "stdout"
        }
      ]
    }
  ]
}