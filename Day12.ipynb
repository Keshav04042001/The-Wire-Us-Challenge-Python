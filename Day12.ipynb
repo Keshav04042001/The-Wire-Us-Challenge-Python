{
  "nbformat": 4,
  "nbformat_minor": 0,
  "metadata": {
    "colab": {
      "name": "Day12.ipynb",
      "provenance": [],
      "authorship_tag": "ABX9TyPjgwvkS+ybXw9aIVrdNt4C",
      "include_colab_link": true
    },
    "kernelspec": {
      "name": "python3",
      "display_name": "Python 3"
    }
  },
  "cells": [
    {
      "cell_type": "markdown",
      "metadata": {
        "id": "view-in-github",
        "colab_type": "text"
      },
      "source": [
        "<a href=\"https://colab.research.google.com/github/ananya0504/The-Wire-Us-Challenge-Python/blob/master/Day12.ipynb\" target=\"_parent\"><img src=\"https://colab.research.google.com/assets/colab-badge.svg\" alt=\"Open In Colab\"/></a>"
      ]
    },
    {
      "cell_type": "code",
      "metadata": {
        "id": "vCbC1dHnkY4U",
        "outputId": "857415b4-0de7-42b8-950a-3f6cb5421342",
        "colab": {
          "base_uri": "https://localhost:8080/",
          "height": 69
        }
      },
      "source": [
        "# using CDLR short names method!\n",
        "\n",
        "# grinning face \n",
        "print(\"\\N{grinning face}\") \n",
        "  \n",
        "# slightly smiling face \n",
        "print(\"\\N{slightly smiling face}\") \n",
        "  \n",
        "# winking face \n",
        "print(\"\\N{winking face}\") "
      ],
      "execution_count": 2,
      "outputs": [
        {
          "output_type": "stream",
          "text": [
            "😀\n",
            "🙂\n",
            "😉\n"
          ],
          "name": "stdout"
        }
      ]
    }
  ]
}